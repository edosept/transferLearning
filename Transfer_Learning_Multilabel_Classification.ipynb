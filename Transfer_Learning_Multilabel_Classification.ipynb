{
  "nbformat": 4,
  "nbformat_minor": 0,
  "metadata": {
    "accelerator": "GPU",
    "colab": {
      "name": "Transfer Learning Multilabel Classification.ipynb",
      "provenance": [],
      "collapsed_sections": [],
      "include_colab_link": true
    },
    "kernelspec": {
      "display_name": "Python 3",
      "language": "python",
      "name": "python3"
    },
    "language_info": {
      "codemirror_mode": {
        "name": "ipython",
        "version": 3
      },
      "file_extension": ".py",
      "mimetype": "text/x-python",
      "name": "python",
      "nbconvert_exporter": "python",
      "pygments_lexer": "ipython3",
      "version": "3.7.4"
    },
    "varInspector": {
      "cols": {
        "lenName": 16,
        "lenType": 16,
        "lenVar": 40
      },
      "kernels_config": {
        "python": {
          "delete_cmd_postfix": "",
          "delete_cmd_prefix": "del ",
          "library": "var_list.py",
          "varRefreshCmd": "print(var_dic_list())"
        },
        "r": {
          "delete_cmd_postfix": ") ",
          "delete_cmd_prefix": "rm(",
          "library": "var_list.r",
          "varRefreshCmd": "cat(var_dic_list()) "
        }
      },
      "types_to_exclude": [
        "module",
        "function",
        "builtin_function_or_method",
        "instance",
        "_Feature"
      ],
      "window_display": false
    }
  },
  "cells": [
    {
      "cell_type": "markdown",
      "metadata": {
        "id": "view-in-github",
        "colab_type": "text"
      },
      "source": [
        "<a href=\"https://colab.research.google.com/github/edosept/transferLearning/blob/master/Transfer_Learning_Multilabel_Classification.ipynb\" target=\"_parent\"><img src=\"https://colab.research.google.com/assets/colab-badge.svg\" alt=\"Open In Colab\"/></a>"
      ]
    },
    {
      "cell_type": "code",
      "metadata": {
        "colab_type": "code",
        "id": "PU5uXkJcPeYm",
        "colab": {
          "base_uri": "https://localhost:8080/",
          "height": 243
        },
        "outputId": "3a98ee70-2011-48c0-8b89-8d309e22317a"
      },
      "source": [
        "!pip install jcopdl"
      ],
      "execution_count": 1,
      "outputs": [
        {
          "output_type": "stream",
          "text": [
            "Requirement already satisfied: jcopdl in /usr/local/lib/python3.6/dist-packages (1.1.9)\n",
            "Requirement already satisfied: numpy in /usr/local/lib/python3.6/dist-packages (from jcopdl) (1.18.5)\n",
            "Requirement already satisfied: torch in /usr/local/lib/python3.6/dist-packages (from jcopdl) (1.6.0+cu101)\n",
            "Requirement already satisfied: matplotlib in /usr/local/lib/python3.6/dist-packages (from jcopdl) (3.2.2)\n",
            "Requirement already satisfied: pillow in /usr/local/lib/python3.6/dist-packages (from jcopdl) (7.0.0)\n",
            "Requirement already satisfied: pandas in /usr/local/lib/python3.6/dist-packages (from jcopdl) (1.0.5)\n",
            "Requirement already satisfied: future in /usr/local/lib/python3.6/dist-packages (from torch->jcopdl) (0.16.0)\n",
            "Requirement already satisfied: pyparsing!=2.0.4,!=2.1.2,!=2.1.6,>=2.0.1 in /usr/local/lib/python3.6/dist-packages (from matplotlib->jcopdl) (2.4.7)\n",
            "Requirement already satisfied: kiwisolver>=1.0.1 in /usr/local/lib/python3.6/dist-packages (from matplotlib->jcopdl) (1.2.0)\n",
            "Requirement already satisfied: python-dateutil>=2.1 in /usr/local/lib/python3.6/dist-packages (from matplotlib->jcopdl) (2.8.1)\n",
            "Requirement already satisfied: cycler>=0.10 in /usr/local/lib/python3.6/dist-packages (from matplotlib->jcopdl) (0.10.0)\n",
            "Requirement already satisfied: pytz>=2017.2 in /usr/local/lib/python3.6/dist-packages (from pandas->jcopdl) (2018.9)\n",
            "Requirement already satisfied: six>=1.5 in /usr/local/lib/python3.6/dist-packages (from python-dateutil>=2.1->matplotlib->jcopdl) (1.15.0)\n"
          ],
          "name": "stdout"
        }
      ]
    },
    {
      "cell_type": "code",
      "metadata": {
        "colab_type": "code",
        "id": "GwzN3mIbPktf",
        "colab": {
          "base_uri": "https://localhost:8080/",
          "height": 35
        },
        "outputId": "ade90384-0916-42b7-b66d-878e8e5d0d50"
      },
      "source": [
        "from google.colab import drive\n",
        "drive.mount('/content/drive')"
      ],
      "execution_count": 2,
      "outputs": [
        {
          "output_type": "stream",
          "text": [
            "Drive already mounted at /content/drive; to attempt to forcibly remount, call drive.mount(\"/content/drive\", force_remount=True).\n"
          ],
          "name": "stdout"
        }
      ]
    },
    {
      "cell_type": "code",
      "metadata": {
        "colab_type": "code",
        "id": "6fIsgFi9Potp",
        "colab": {}
      },
      "source": [
        "root_dir = \"/content/drive/My Drive/Colab Notebooks/transferLearning\""
      ],
      "execution_count": 3,
      "outputs": []
    },
    {
      "cell_type": "code",
      "metadata": {
        "ExecuteTime": {
          "end_time": "2020-04-17T04:05:09.680044Z",
          "start_time": "2020-04-17T04:05:07.936043Z"
        },
        "colab_type": "code",
        "id": "5k6odYATOKGx",
        "colab": {
          "base_uri": "https://localhost:8080/",
          "height": 35
        },
        "outputId": "67f089bb-6ad4-4345-cf83-3908f61a7dc3"
      },
      "source": [
        "import numpy as np\n",
        "import torch\n",
        "from torch import nn, optim\n",
        "from torchvision import transforms\n",
        "\n",
        "import matplotlib.pyplot as plt\n",
        "import os\n",
        "from sklearn.metrics import hamming_loss\n",
        "\n",
        "from IPython.display import Image\n",
        "\n",
        "device = torch.device(\"cuda:0\" if torch.cuda.is_available() else \"cpu\")\n",
        "device"
      ],
      "execution_count": 4,
      "outputs": [
        {
          "output_type": "execute_result",
          "data": {
            "text/plain": [
              "device(type='cuda', index=0)"
            ]
          },
          "metadata": {
            "tags": []
          },
          "execution_count": 4
        }
      ]
    },
    {
      "cell_type": "markdown",
      "metadata": {
        "colab_type": "text",
        "id": "V60GVmMaOKG2"
      },
      "source": [
        "### Helper Function and Class"
      ]
    },
    {
      "cell_type": "code",
      "metadata": {
        "ExecuteTime": {
          "end_time": "2020-04-17T04:05:10.176043Z",
          "start_time": "2020-04-17T04:05:09.680044Z"
        },
        "colab_type": "code",
        "id": "WgFPgUzXOKG3",
        "colab": {}
      },
      "source": [
        "from torch.utils.data.dataset import Dataset\n",
        "from torch.utils.data import DataLoader\n",
        "import PIL\n",
        "import pandas as pd\n",
        "class Dataset(Dataset):\n",
        "    def __init__(self, csv_path, img_path, transform=None):\n",
        "\n",
        "        df = pd.read_csv(csv_path)\n",
        "        assert df['fname'].apply(lambda x: os.path.isfile(img_path + x)).all\n",
        "        \n",
        "        self.img_path = img_path\n",
        "        self.transform = transform\n",
        "\n",
        "        self.X = df['fname']\n",
        "        self.y = df.drop(columns=['fname'])\n",
        "\n",
        "    def __getitem__(self, index):\n",
        "        \n",
        "        img = PIL.Image.open(self.img_path + self.X[index])\n",
        "        if self.transform is not None:\n",
        "            img = self.transform(img)\n",
        "        \n",
        "        label = torch.from_numpy(self.y.iloc[index].values).type(torch.FloatTensor)\n",
        "        return img, label\n",
        "\n",
        "    def __len__(self):\n",
        "        return len(self.X)\n",
        "\n",
        "def label2cat(x):\n",
        "    return [label for i, label in enumerate([\"desert\", \"mountains\", \"sea\", \"sunset\", \"trees\"]) if x[i] == 1]\n",
        "\n",
        "def inv_norm(image, mean=[0.485, 0.456, 0.406], std=[0.229, 0.224, 0.225]):\n",
        "    x = image.new(*image.size())    \n",
        "    x[:, 0, :, :] = image[:, 0, :, :] * std[0] + mean[0]\n",
        "    x[:, 1, :, :] = image[:, 1, :, :] * std[1] + mean[1]\n",
        "    x[:, 2, :, :] = image[:, 2, :, :] * std[2] + mean[2]    \n",
        "    return x"
      ],
      "execution_count": 5,
      "outputs": []
    },
    {
      "cell_type": "markdown",
      "metadata": {
        "colab_type": "text",
        "id": "CzhYmtNnOKG6"
      },
      "source": [
        "# Import Data (Dataset, Dataloader)"
      ]
    },
    {
      "cell_type": "code",
      "metadata": {
        "ExecuteTime": {
          "end_time": "2020-04-17T04:05:10.312043Z",
          "start_time": "2020-04-17T04:05:10.176043Z"
        },
        "colab_type": "code",
        "id": "JxOqsSdDOKG6",
        "colab": {}
      },
      "source": [
        "train_transform = transforms.Compose([\n",
        "    transforms.RandomRotation(10),\n",
        "    transforms.RandomResizedCrop(224),\n",
        "    transforms.RandomHorizontalFlip(),\n",
        "    transforms.ToTensor(),\n",
        "    transforms.Normalize([0.485, 0.456, 0.406], [0.229, 0.224, 0.225])\n",
        "])\n",
        "\n",
        "test_transform = transforms.Compose([\n",
        "    transforms.Resize(255),\n",
        "    transforms.CenterCrop(224),\n",
        "    transforms.ToTensor(),\n",
        "    transforms.Normalize([0.485, 0.456, 0.406], [0.229, 0.224, 0.225])\n",
        "])\n",
        "\n",
        "bs = 32\n",
        "train_set = Dataset(\"/content/drive/My Drive/Colab Notebooks/transferLearning/data/train_label.csv\", \"/content/drive/My Drive/Colab Notebooks/transferLearning/data/train/\", transform=train_transform)\n",
        "trainloader = DataLoader(train_set, batch_size=bs, shuffle=True)\n",
        "\n",
        "test_set = Dataset(\"/content/drive/My Drive/Colab Notebooks/transferLearning/data/test_label.csv\", \"/content/drive/My Drive/Colab Notebooks/transferLearning/data/test/\", transform=test_transform)\n",
        "testloader = DataLoader(test_set, batch_size=bs, shuffle=True)"
      ],
      "execution_count": 6,
      "outputs": []
    },
    {
      "cell_type": "markdown",
      "metadata": {
        "colab_type": "text",
        "id": "aqX1yLuxOKG-"
      },
      "source": [
        "# Visualize Data"
      ]
    },
    {
      "cell_type": "code",
      "metadata": {
        "ExecuteTime": {
          "end_time": "2020-04-17T04:05:11.336044Z",
          "start_time": "2020-04-17T04:05:10.316082Z"
        },
        "colab_type": "code",
        "id": "iarPmf1nOKG_",
        "colab": {
          "base_uri": "https://localhost:8080/",
          "height": 269
        },
        "outputId": "7ff78249-e2f3-41ba-ad70-e9e8bd066dd2"
      },
      "source": [
        "images, labels = next(iter(testloader))\n",
        "images = inv_norm(images)\n",
        "images = images.numpy()[0, :, : ,:]\n",
        "images = images.transpose([1, 2, 0])\n",
        "plt.imshow(images);"
      ],
      "execution_count": 7,
      "outputs": [
        {
          "output_type": "display_data",
          "data": {
            "image/png": "[encoded data removed]",
            "text/plain": [
              "<Figure size 432x288 with 1 Axes>"
            ]
          },
          "metadata": {
            "tags": [],
            "needs_background": "light"
          }
        }
      ]
    },
    {
      "cell_type": "markdown",
      "metadata": {
        "colab_type": "text",
        "id": "JGratnJDOKHB"
      },
      "source": [
        "# Construct MCOS"
      ]
    },
    {
      "cell_type": "code",
      "metadata": {
        "ExecuteTime": {
          "end_time": "2020-04-17T04:05:11.756042Z",
          "start_time": "2020-04-17T04:05:11.336044Z"
        },
        "colab_type": "code",
        "id": "4CcLHkXkOKHC",
        "colab": {}
      },
      "source": [
        "from torchvision.models import resnet18\n",
        "model = resnet18(pretrained=True) #artinya kita mau pakai resnet yang sudah di pretrained\n",
        "\n",
        "#frezze semua weightnya\n",
        "for param in model.parameters():\n",
        "    param.requires_grad = False\n",
        "\n",
        "#edit kepalanya\n",
        "model.fc = nn.Sequential(\n",
        "    nn.Linear(model.fc.in_features, 5),\n",
        "    nn.Sigmoid() #sigmoid karena multilabel\n",
        ")\n",
        "model = model.to(device)\n",
        "\n",
        "criterion = nn.BCELoss()\n",
        "optimizer = optim.Adam(model.parameters(), lr=1e-4)\n",
        "scheduler = optim.lr_scheduler.ReduceLROnPlateau(optimizer, factor=0.5, patience=3, min_lr=1e-8)"
      ],
      "execution_count": 8,
      "outputs": []
    },
    {
      "cell_type": "markdown",
      "metadata": {
        "colab_type": "text",
        "id": "KXIg7la_OKHG"
      },
      "source": [
        "### Phase 1: Training Classifier"
      ]
    },
    {
      "cell_type": "code",
      "metadata": {
        "ExecuteTime": {
          "end_time": "2020-04-17T04:05:11.768044Z",
          "start_time": "2020-04-17T04:05:11.756042Z"
        },
        "colab_type": "code",
        "id": "zXSuu_PsOKHG",
        "colab": {}
      },
      "source": [
        "# Config\n",
        "model_name = 'resnet.pth'\n",
        "save_every = 10\n",
        "plot_every = 10\n",
        "early_stop_patience = 10\n",
        "\n",
        "# Initialization\n",
        "train_cost, test_cost = [], []\n",
        "train_acc, test_acc = [], []\n",
        "best_acc = 0\n",
        "best_weights = model.state_dict()\n",
        "epoch = early_stop = 0"
      ],
      "execution_count": 9,
      "outputs": []
    },
    {
      "cell_type": "code",
      "metadata": {
        "ExecuteTime": {
          "end_time": "2020-04-17T04:05:11.900043Z",
          "start_time": "2020-04-17T04:05:11.768044Z"
        },
        "colab_type": "code",
        "id": "ByaNB-NLOKHJ",
        "colab": {}
      },
      "source": [
        "from tqdm import tqdm #tqdm melihat progress dari looping, means \"progress\" in Arabic (taqadum)\n",
        "#bisa lihat estimate time juga"
      ],
      "execution_count": 10,
      "outputs": []
    },
    {
      "cell_type": "code",
      "metadata": {
        "ExecuteTime": {
          "start_time": "2020-04-17T04:05:07.958Z"
        },
        "colab_type": "code",
        "id": "a2aIhX8jOKHM",
        "colab": {
          "base_uri": "https://localhost:8080/",
          "height": 1000
        },
        "outputId": "2fb6254b-a6ac-4920-d2d0-191c32ecd8db"
      },
      "source": [
        "import os\n",
        "while True:\n",
        "    epoch += 1\n",
        "    \n",
        "    ## Training ##\n",
        "    cost = acc = 0\n",
        "    model.train()    \n",
        "    for images, labels in tqdm(trainloader):\n",
        "        images, labels = images.to(device), labels.to(device)\n",
        "\n",
        "        optimizer.zero_grad()\n",
        "\n",
        "        output = model(images)\n",
        "        loss = criterion(output, labels)\n",
        "        loss.backward()\n",
        "        optimizer.step()\n",
        "        \n",
        "        cost += loss.item()*images.shape[0]\n",
        "        labels = labels.cpu().detach().numpy()\n",
        "        pred = output > 0.5\n",
        "        pred = pred.cpu().detach().numpy()                \n",
        "        acc += (1-hamming_loss(labels, pred))\n",
        "    scheduler.step(cost)\n",
        "    train_cost.append(cost/len(trainloader.dataset))\n",
        "    train_acc.append(acc/len(trainloader))\n",
        "    \n",
        "    ## Testing ##\n",
        "    with torch.no_grad():\n",
        "        cost = acc = 0\n",
        "        model.eval()\n",
        "        for images, labels in testloader:\n",
        "            images, labels = images.to(device), labels.to(device)\n",
        "        \n",
        "            output = model(images)\n",
        "            loss = criterion(output, labels)            \n",
        "            \n",
        "            cost += loss.item()*images.shape[0]\n",
        "            labels = labels.cpu().detach().numpy()\n",
        "            pred = output > 0.5\n",
        "            pred = pred.cpu().detach().numpy()                \n",
        "            acc += (1-hamming_loss(labels, pred))\n",
        "        scheduler.step(cost)\n",
        "        test_cost.append(cost/len(testloader.dataset))\n",
        "        test_acc.append(acc/len(testloader))\n",
        "        \n",
        "    ## Reporting ##\n",
        "    print(f'Epoch {epoch:4}')\n",
        "    print(f'Train_loss = {train_cost[-1]:.3f} | Test_loss = {test_cost[-1]:.3f}')\n",
        "    print(f'Train_acc = {train_acc[-1]*100:.1f}% | Test_acc = {test_acc[-1]*100:.1f}%')    \n",
        "    \n",
        "    \n",
        "    ## Common Callback ##\n",
        "    # Early Stopping\n",
        "    if test_acc[-1] > best_acc:\n",
        "        best_acc = test_acc[-1]\n",
        "        best_weights = model.state_dict()\n",
        "        early_stop = 0\n",
        "    else:\n",
        "        early_stop += 1\n",
        "        print(f'==> EarlyStop patience = {early_stop}')\n",
        "        if early_stop >= early_stop_patience:\n",
        "            print('==> Execute Early Stopping')\n",
        "            ckpt = {\n",
        "                'loss_history': (train_cost, test_cost),\n",
        "                'acc_history': (train_acc, test_acc),\n",
        "                'weight': best_weights\n",
        "            }\n",
        "            os.makedirs('model', exist_ok=True)\n",
        "            torch.save(ckpt, f'model/{model_name}')\n",
        "            break\n",
        "\n",
        "    # Checkpoint            \n",
        "    if epoch % save_every == 0:\n",
        "        ckpt = {\n",
        "            'loss_history': (train_cost, test_cost),\n",
        "            'acc_history': (train_acc, test_acc),\n",
        "            'weight': best_weights\n",
        "        }\n",
        "        os.makedirs('model', exist_ok=True)\n",
        "        torch.save(ckpt, f'model/{model_name}')\n",
        "        \n",
        "    # Runtime Plotting\n",
        "    if epoch % plot_every == 0:\n",
        "        plt.pause(0.001)\n",
        "        plt.semilogy(range(1, len(train_cost)+1), train_cost)\n",
        "        plt.semilogy(range(1, len(test_cost)+1), test_cost)\n",
        "        plt.ylabel('Cost')\n",
        "        plt.xlabel('Epoch');"
      ],
      "execution_count": 11,
      "outputs": [
        {
          "output_type": "stream",
          "text": [
            "100%|██████████| 51/51 [00:13<00:00,  3.71it/s]\n",
            "  0%|          | 0/51 [00:00<?, ?it/s]"
          ],
          "name": "stderr"
        },
        {
          "output_type": "stream",
          "text": [
            "Epoch    1\n",
            "Train_loss = 0.607 | Test_loss = 0.569\n",
            "Train_acc = 70.4% | Test_acc = 74.5%\n"
          ],
          "name": "stdout"
        },
        {
          "output_type": "stream",
          "text": [
            "100%|██████████| 51/51 [00:13<00:00,  3.72it/s]\n",
            "  0%|          | 0/51 [00:00<?, ?it/s]"
          ],
          "name": "stderr"
        },
        {
          "output_type": "stream",
          "text": [
            "Epoch    2\n",
            "Train_loss = 0.555 | Test_loss = 0.538\n",
            "Train_acc = 75.1% | Test_acc = 75.3%\n"
          ],
          "name": "stdout"
        },
        {
          "output_type": "stream",
          "text": [
            "100%|██████████| 51/51 [00:13<00:00,  3.66it/s]\n",
            "  0%|          | 0/51 [00:00<?, ?it/s]"
          ],
          "name": "stderr"
        },
        {
          "output_type": "stream",
          "text": [
            "Epoch    3\n",
            "Train_loss = 0.531 | Test_loss = 0.513\n",
            "Train_acc = 75.2% | Test_acc = 75.7%\n"
          ],
          "name": "stdout"
        },
        {
          "output_type": "stream",
          "text": [
            "100%|██████████| 51/51 [00:13<00:00,  3.72it/s]\n",
            "  0%|          | 0/51 [00:00<?, ?it/s]"
          ],
          "name": "stderr"
        },
        {
          "output_type": "stream",
          "text": [
            "Epoch    4\n",
            "Train_loss = 0.508 | Test_loss = 0.491\n",
            "Train_acc = 75.8% | Test_acc = 76.4%\n"
          ],
          "name": "stdout"
        },
        {
          "output_type": "stream",
          "text": [
            "100%|██████████| 51/51 [00:13<00:00,  3.68it/s]\n",
            "  0%|          | 0/51 [00:00<?, ?it/s]"
          ],
          "name": "stderr"
        },
        {
          "output_type": "stream",
          "text": [
            "Epoch    5\n",
            "Train_loss = 0.489 | Test_loss = 0.467\n",
            "Train_acc = 76.9% | Test_acc = 77.6%\n"
          ],
          "name": "stdout"
        },
        {
          "output_type": "stream",
          "text": [
            "100%|██████████| 51/51 [00:14<00:00,  3.55it/s]\n",
            "  0%|          | 0/51 [00:00<?, ?it/s]"
          ],
          "name": "stderr"
        },
        {
          "output_type": "stream",
          "text": [
            "Epoch    6\n",
            "Train_loss = 0.475 | Test_loss = 0.452\n",
            "Train_acc = 77.4% | Test_acc = 78.7%\n"
          ],
          "name": "stdout"
        },
        {
          "output_type": "stream",
          "text": [
            "100%|██████████| 51/51 [00:13<00:00,  3.69it/s]\n",
            "  0%|          | 0/51 [00:00<?, ?it/s]"
          ],
          "name": "stderr"
        },
        {
          "output_type": "stream",
          "text": [
            "Epoch    7\n",
            "Train_loss = 0.458 | Test_loss = 0.435\n",
            "Train_acc = 78.2% | Test_acc = 79.8%\n"
          ],
          "name": "stdout"
        },
        {
          "output_type": "stream",
          "text": [
            "100%|██████████| 51/51 [00:14<00:00,  3.62it/s]\n",
            "  0%|          | 0/51 [00:00<?, ?it/s]"
          ],
          "name": "stderr"
        },
        {
          "output_type": "stream",
          "text": [
            "Epoch    8\n",
            "Train_loss = 0.443 | Test_loss = 0.423\n",
            "Train_acc = 79.5% | Test_acc = 81.2%\n"
          ],
          "name": "stdout"
        },
        {
          "output_type": "stream",
          "text": [
            "100%|██████████| 51/51 [00:13<00:00,  3.72it/s]\n",
            "  0%|          | 0/51 [00:00<?, ?it/s]"
          ],
          "name": "stderr"
        },
        {
          "output_type": "stream",
          "text": [
            "Epoch    9\n",
            "Train_loss = 0.429 | Test_loss = 0.410\n",
            "Train_acc = 79.8% | Test_acc = 82.6%\n"
          ],
          "name": "stdout"
        },
        {
          "output_type": "stream",
          "text": [
            "100%|██████████| 51/51 [00:13<00:00,  3.70it/s]\n",
            "  0%|          | 0/51 [00:00<?, ?it/s]"
          ],
          "name": "stderr"
        },
        {
          "output_type": "stream",
          "text": [
            "Epoch   10\n",
            "Train_loss = 0.419 | Test_loss = 0.396\n",
            "Train_acc = 81.7% | Test_acc = 82.8%\n"
          ],
          "name": "stdout"
        },
        {
          "output_type": "stream",
          "text": [
            "100%|██████████| 51/51 [00:13<00:00,  3.71it/s]\n",
            "  0%|          | 0/51 [00:00<?, ?it/s]"
          ],
          "name": "stderr"
        },
        {
          "output_type": "stream",
          "text": [
            "Epoch   11\n",
            "Train_loss = 0.409 | Test_loss = 0.387\n",
            "Train_acc = 81.9% | Test_acc = 84.9%\n"
          ],
          "name": "stdout"
        },
        {
          "output_type": "stream",
          "text": [
            "100%|██████████| 51/51 [00:13<00:00,  3.70it/s]\n",
            "  0%|          | 0/51 [00:00<?, ?it/s]"
          ],
          "name": "stderr"
        },
        {
          "output_type": "stream",
          "text": [
            "Epoch   12\n",
            "Train_loss = 0.398 | Test_loss = 0.374\n",
            "Train_acc = 82.0% | Test_acc = 85.0%\n"
          ],
          "name": "stdout"
        },
        {
          "output_type": "stream",
          "text": [
            "100%|██████████| 51/51 [00:13<00:00,  3.72it/s]\n",
            "  0%|          | 0/51 [00:00<?, ?it/s]"
          ],
          "name": "stderr"
        },
        {
          "output_type": "stream",
          "text": [
            "Epoch   13\n",
            "Train_loss = 0.394 | Test_loss = 0.369\n",
            "Train_acc = 82.8% | Test_acc = 85.0%\n"
          ],
          "name": "stdout"
        },
        {
          "output_type": "stream",
          "text": [
            "100%|██████████| 51/51 [00:13<00:00,  3.69it/s]\n",
            "  0%|          | 0/51 [00:00<?, ?it/s]"
          ],
          "name": "stderr"
        },
        {
          "output_type": "stream",
          "text": [
            "Epoch   14\n",
            "Train_loss = 0.383 | Test_loss = 0.364\n",
            "Train_acc = 83.0% | Test_acc = 85.8%\n"
          ],
          "name": "stdout"
        },
        {
          "output_type": "stream",
          "text": [
            "100%|██████████| 51/51 [00:13<00:00,  3.72it/s]\n",
            "  0%|          | 0/51 [00:00<?, ?it/s]"
          ],
          "name": "stderr"
        },
        {
          "output_type": "stream",
          "text": [
            "Epoch   15\n",
            "Train_loss = 0.377 | Test_loss = 0.348\n",
            "Train_acc = 83.8% | Test_acc = 85.7%\n",
            "==> EarlyStop patience = 1\n"
          ],
          "name": "stdout"
        },
        {
          "output_type": "stream",
          "text": [
            "100%|██████████| 51/51 [00:13<00:00,  3.70it/s]\n",
            "  0%|          | 0/51 [00:00<?, ?it/s]"
          ],
          "name": "stderr"
        },
        {
          "output_type": "stream",
          "text": [
            "Epoch   16\n",
            "Train_loss = 0.370 | Test_loss = 0.345\n",
            "Train_acc = 84.9% | Test_acc = 87.0%\n"
          ],
          "name": "stdout"
        },
        {
          "output_type": "stream",
          "text": [
            "100%|██████████| 51/51 [00:13<00:00,  3.72it/s]\n",
            "  0%|          | 0/51 [00:00<?, ?it/s]"
          ],
          "name": "stderr"
        },
        {
          "output_type": "stream",
          "text": [
            "Epoch   17\n",
            "Train_loss = 0.364 | Test_loss = 0.335\n",
            "Train_acc = 84.8% | Test_acc = 87.1%\n"
          ],
          "name": "stdout"
        },
        {
          "output_type": "stream",
          "text": [
            "100%|██████████| 51/51 [00:14<00:00,  3.60it/s]\n",
            "  0%|          | 0/51 [00:00<?, ?it/s]"
          ],
          "name": "stderr"
        },
        {
          "output_type": "stream",
          "text": [
            "Epoch   18\n",
            "Train_loss = 0.359 | Test_loss = 0.332\n",
            "Train_acc = 85.2% | Test_acc = 87.5%\n"
          ],
          "name": "stdout"
        },
        {
          "output_type": "stream",
          "text": [
            "100%|██████████| 51/51 [00:13<00:00,  3.75it/s]\n",
            "  0%|          | 0/51 [00:00<?, ?it/s]"
          ],
          "name": "stderr"
        },
        {
          "output_type": "stream",
          "text": [
            "Epoch   19\n",
            "Train_loss = 0.353 | Test_loss = 0.326\n",
            "Train_acc = 85.6% | Test_acc = 88.3%\n"
          ],
          "name": "stdout"
        },
        {
          "output_type": "stream",
          "text": [
            "100%|██████████| 51/51 [00:13<00:00,  3.72it/s]\n"
          ],
          "name": "stderr"
        },
        {
          "output_type": "stream",
          "text": [
            "Epoch   20\n",
            "Train_loss = 0.351 | Test_loss = 0.322\n",
            "Train_acc = 85.7% | Test_acc = 87.6%\n",
            "==> EarlyStop patience = 1\n"
          ],
          "name": "stdout"
        },
        {
          "output_type": "display_data",
          "data": {
            "image/png": "[encoded data removed]",
            "text/plain": [
              "<Figure size 432x288 with 1 Axes>"
            ]
          },
          "metadata": {
            "tags": [],
            "needs_background": "light"
          }
        },
        {
          "output_type": "stream",
          "text": [
            "100%|██████████| 51/51 [00:13<00:00,  3.70it/s]\n",
            "  0%|          | 0/51 [00:00<?, ?it/s]"
          ],
          "name": "stderr"
        },
        {
          "output_type": "stream",
          "text": [
            "Epoch   21\n",
            "Train_loss = 0.349 | Test_loss = 0.316\n",
            "Train_acc = 85.7% | Test_acc = 87.8%\n",
            "==> EarlyStop patience = 2\n"
          ],
          "name": "stdout"
        },
        {
          "output_type": "stream",
          "text": [
            "100%|██████████| 51/51 [00:13<00:00,  3.69it/s]\n",
            "  0%|          | 0/51 [00:00<?, ?it/s]"
          ],
          "name": "stderr"
        },
        {
          "output_type": "stream",
          "text": [
            "Epoch   22\n",
            "Train_loss = 0.343 | Test_loss = 0.315\n",
            "Train_acc = 86.0% | Test_acc = 88.7%\n"
          ],
          "name": "stdout"
        },
        {
          "output_type": "stream",
          "text": [
            "100%|██████████| 51/51 [00:13<00:00,  3.66it/s]\n",
            "  0%|          | 0/51 [00:00<?, ?it/s]"
          ],
          "name": "stderr"
        },
        {
          "output_type": "stream",
          "text": [
            "Epoch   23\n",
            "Train_loss = 0.339 | Test_loss = 0.307\n",
            "Train_acc = 86.3% | Test_acc = 88.4%\n",
            "==> EarlyStop patience = 1\n"
          ],
          "name": "stdout"
        },
        {
          "output_type": "stream",
          "text": [
            "100%|██████████| 51/51 [00:14<00:00,  3.62it/s]\n",
            "  0%|          | 0/51 [00:00<?, ?it/s]"
          ],
          "name": "stderr"
        },
        {
          "output_type": "stream",
          "text": [
            "Epoch   24\n",
            "Train_loss = 0.339 | Test_loss = 0.301\n",
            "Train_acc = 86.2% | Test_acc = 89.1%\n"
          ],
          "name": "stdout"
        },
        {
          "output_type": "stream",
          "text": [
            "100%|██████████| 51/51 [00:13<00:00,  3.69it/s]\n",
            "  0%|          | 0/51 [00:00<?, ?it/s]"
          ],
          "name": "stderr"
        },
        {
          "output_type": "stream",
          "text": [
            "Epoch   25\n",
            "Train_loss = 0.337 | Test_loss = 0.303\n",
            "Train_acc = 86.4% | Test_acc = 88.4%\n",
            "==> EarlyStop patience = 1\n"
          ],
          "name": "stdout"
        },
        {
          "output_type": "stream",
          "text": [
            "100%|██████████| 51/51 [00:13<00:00,  3.68it/s]\n",
            "  0%|          | 0/51 [00:00<?, ?it/s]"
          ],
          "name": "stderr"
        },
        {
          "output_type": "stream",
          "text": [
            "Epoch   26\n",
            "Train_loss = 0.332 | Test_loss = 0.299\n",
            "Train_acc = 86.4% | Test_acc = 88.6%\n",
            "==> EarlyStop patience = 2\n"
          ],
          "name": "stdout"
        },
        {
          "output_type": "stream",
          "text": [
            "100%|██████████| 51/51 [00:14<00:00,  3.63it/s]\n",
            "  0%|          | 0/51 [00:00<?, ?it/s]"
          ],
          "name": "stderr"
        },
        {
          "output_type": "stream",
          "text": [
            "Epoch   27\n",
            "Train_loss = 0.327 | Test_loss = 0.295\n",
            "Train_acc = 86.8% | Test_acc = 88.8%\n",
            "==> EarlyStop patience = 3\n"
          ],
          "name": "stdout"
        },
        {
          "output_type": "stream",
          "text": [
            "100%|██████████| 51/51 [00:14<00:00,  3.61it/s]\n",
            "  0%|          | 0/51 [00:00<?, ?it/s]"
          ],
          "name": "stderr"
        },
        {
          "output_type": "stream",
          "text": [
            "Epoch   28\n",
            "Train_loss = 0.324 | Test_loss = 0.293\n",
            "Train_acc = 86.7% | Test_acc = 88.8%\n",
            "==> EarlyStop patience = 4\n"
          ],
          "name": "stdout"
        },
        {
          "output_type": "stream",
          "text": [
            "100%|██████████| 51/51 [00:14<00:00,  3.62it/s]\n",
            "  0%|          | 0/51 [00:00<?, ?it/s]"
          ],
          "name": "stderr"
        },
        {
          "output_type": "stream",
          "text": [
            "Epoch   29\n",
            "Train_loss = 0.322 | Test_loss = 0.289\n",
            "Train_acc = 86.8% | Test_acc = 88.9%\n",
            "==> EarlyStop patience = 5\n"
          ],
          "name": "stdout"
        },
        {
          "output_type": "stream",
          "text": [
            "100%|██████████| 51/51 [00:13<00:00,  3.70it/s]\n"
          ],
          "name": "stderr"
        },
        {
          "output_type": "stream",
          "text": [
            "Epoch   30\n",
            "Train_loss = 0.318 | Test_loss = 0.287\n",
            "Train_acc = 87.2% | Test_acc = 89.3%\n"
          ],
          "name": "stdout"
        },
        {
          "output_type": "display_data",
          "data": {
            "image/png": "[encoded data removed]",
            "text/plain": [
              "<Figure size 432x288 with 1 Axes>"
            ]
          },
          "metadata": {
            "tags": [],
            "needs_background": "light"
          }
        },
        {
          "output_type": "stream",
          "text": [
            "100%|██████████| 51/51 [00:13<00:00,  3.67it/s]\n",
            "  0%|          | 0/51 [00:00<?, ?it/s]"
          ],
          "name": "stderr"
        },
        {
          "output_type": "stream",
          "text": [
            "Epoch   31\n",
            "Train_loss = 0.319 | Test_loss = 0.286\n",
            "Train_acc = 87.2% | Test_acc = 89.8%\n"
          ],
          "name": "stdout"
        },
        {
          "output_type": "stream",
          "text": [
            "100%|██████████| 51/51 [00:13<00:00,  3.73it/s]\n",
            "  0%|          | 0/51 [00:00<?, ?it/s]"
          ],
          "name": "stderr"
        },
        {
          "output_type": "stream",
          "text": [
            "Epoch   32\n",
            "Train_loss = 0.315 | Test_loss = 0.283\n",
            "Train_acc = 87.3% | Test_acc = 89.3%\n",
            "==> EarlyStop patience = 1\n"
          ],
          "name": "stdout"
        },
        {
          "output_type": "stream",
          "text": [
            "100%|██████████| 51/51 [00:13<00:00,  3.67it/s]\n",
            "  0%|          | 0/51 [00:00<?, ?it/s]"
          ],
          "name": "stderr"
        },
        {
          "output_type": "stream",
          "text": [
            "Epoch   33\n",
            "Train_loss = 0.317 | Test_loss = 0.282\n",
            "Train_acc = 87.2% | Test_acc = 89.6%\n",
            "==> EarlyStop patience = 2\n"
          ],
          "name": "stdout"
        },
        {
          "output_type": "stream",
          "text": [
            "100%|██████████| 51/51 [00:13<00:00,  3.70it/s]\n",
            "  0%|          | 0/51 [00:00<?, ?it/s]"
          ],
          "name": "stderr"
        },
        {
          "output_type": "stream",
          "text": [
            "Epoch   34\n",
            "Train_loss = 0.309 | Test_loss = 0.281\n",
            "Train_acc = 87.8% | Test_acc = 89.3%\n",
            "==> EarlyStop patience = 3\n"
          ],
          "name": "stdout"
        },
        {
          "output_type": "stream",
          "text": [
            "100%|██████████| 51/51 [00:13<00:00,  3.70it/s]\n",
            "  0%|          | 0/51 [00:00<?, ?it/s]"
          ],
          "name": "stderr"
        },
        {
          "output_type": "stream",
          "text": [
            "Epoch   35\n",
            "Train_loss = 0.311 | Test_loss = 0.272\n",
            "Train_acc = 87.5% | Test_acc = 89.8%\n",
            "==> EarlyStop patience = 4\n"
          ],
          "name": "stdout"
        },
        {
          "output_type": "stream",
          "text": [
            "100%|██████████| 51/51 [00:13<00:00,  3.65it/s]\n",
            "  0%|          | 0/51 [00:00<?, ?it/s]"
          ],
          "name": "stderr"
        },
        {
          "output_type": "stream",
          "text": [
            "Epoch   36\n",
            "Train_loss = 0.306 | Test_loss = 0.277\n",
            "Train_acc = 87.8% | Test_acc = 90.0%\n"
          ],
          "name": "stdout"
        },
        {
          "output_type": "stream",
          "text": [
            "100%|██████████| 51/51 [00:13<00:00,  3.71it/s]\n",
            "  0%|          | 0/51 [00:00<?, ?it/s]"
          ],
          "name": "stderr"
        },
        {
          "output_type": "stream",
          "text": [
            "Epoch   37\n",
            "Train_loss = 0.312 | Test_loss = 0.273\n",
            "Train_acc = 87.5% | Test_acc = 89.9%\n",
            "==> EarlyStop patience = 1\n"
          ],
          "name": "stdout"
        },
        {
          "output_type": "stream",
          "text": [
            "100%|██████████| 51/51 [00:14<00:00,  3.63it/s]\n",
            "  0%|          | 0/51 [00:00<?, ?it/s]"
          ],
          "name": "stderr"
        },
        {
          "output_type": "stream",
          "text": [
            "Epoch   38\n",
            "Train_loss = 0.308 | Test_loss = 0.274\n",
            "Train_acc = 87.5% | Test_acc = 90.1%\n"
          ],
          "name": "stdout"
        },
        {
          "output_type": "stream",
          "text": [
            "100%|██████████| 51/51 [00:14<00:00,  3.59it/s]\n",
            "  0%|          | 0/51 [00:00<?, ?it/s]"
          ],
          "name": "stderr"
        },
        {
          "output_type": "stream",
          "text": [
            "Epoch   39\n",
            "Train_loss = 0.306 | Test_loss = 0.273\n",
            "Train_acc = 87.8% | Test_acc = 89.5%\n",
            "==> EarlyStop patience = 1\n"
          ],
          "name": "stdout"
        },
        {
          "output_type": "stream",
          "text": [
            "100%|██████████| 51/51 [00:14<00:00,  3.59it/s]\n"
          ],
          "name": "stderr"
        },
        {
          "output_type": "stream",
          "text": [
            "Epoch   40\n",
            "Train_loss = 0.299 | Test_loss = 0.270\n",
            "Train_acc = 87.9% | Test_acc = 89.4%\n",
            "==> EarlyStop patience = 2\n"
          ],
          "name": "stdout"
        },
        {
          "output_type": "display_data",
          "data": {
            "image/png": "[encoded data removed]",
            "text/plain": [
              "<Figure size 432x288 with 1 Axes>"
            ]
          },
          "metadata": {
            "tags": [],
            "needs_background": "light"
          }
        },
        {
          "output_type": "stream",
          "text": [
            "100%|██████████| 51/51 [00:15<00:00,  3.35it/s]\n",
            "  0%|          | 0/51 [00:00<?, ?it/s]"
          ],
          "name": "stderr"
        },
        {
          "output_type": "stream",
          "text": [
            "Epoch   41\n",
            "Train_loss = 0.304 | Test_loss = 0.275\n",
            "Train_acc = 87.8% | Test_acc = 89.6%\n",
            "==> EarlyStop patience = 3\n"
          ],
          "name": "stdout"
        },
        {
          "output_type": "stream",
          "text": [
            "100%|██████████| 51/51 [00:13<00:00,  3.69it/s]\n",
            "  0%|          | 0/51 [00:00<?, ?it/s]"
          ],
          "name": "stderr"
        },
        {
          "output_type": "stream",
          "text": [
            "Epoch   42\n",
            "Train_loss = 0.297 | Test_loss = 0.267\n",
            "Train_acc = 88.4% | Test_acc = 90.1%\n",
            "==> EarlyStop patience = 4\n"
          ],
          "name": "stdout"
        },
        {
          "output_type": "stream",
          "text": [
            "100%|██████████| 51/51 [00:13<00:00,  3.70it/s]\n",
            "  0%|          | 0/51 [00:00<?, ?it/s]"
          ],
          "name": "stderr"
        },
        {
          "output_type": "stream",
          "text": [
            "Epoch   43\n",
            "Train_loss = 0.301 | Test_loss = 0.273\n",
            "Train_acc = 88.0% | Test_acc = 89.6%\n",
            "==> EarlyStop patience = 5\n"
          ],
          "name": "stdout"
        },
        {
          "output_type": "stream",
          "text": [
            "100%|██████████| 51/51 [00:13<00:00,  3.70it/s]\n",
            "  0%|          | 0/51 [00:00<?, ?it/s]"
          ],
          "name": "stderr"
        },
        {
          "output_type": "stream",
          "text": [
            "Epoch   44\n",
            "Train_loss = 0.301 | Test_loss = 0.271\n",
            "Train_acc = 88.3% | Test_acc = 89.3%\n",
            "==> EarlyStop patience = 6\n"
          ],
          "name": "stdout"
        },
        {
          "output_type": "stream",
          "text": [
            "100%|██████████| 51/51 [00:13<00:00,  3.65it/s]\n",
            "  0%|          | 0/51 [00:00<?, ?it/s]"
          ],
          "name": "stderr"
        },
        {
          "output_type": "stream",
          "text": [
            "Epoch   45\n",
            "Train_loss = 0.295 | Test_loss = 0.266\n",
            "Train_acc = 88.2% | Test_acc = 89.7%\n",
            "==> EarlyStop patience = 7\n"
          ],
          "name": "stdout"
        },
        {
          "output_type": "stream",
          "text": [
            "100%|██████████| 51/51 [00:13<00:00,  3.71it/s]\n",
            "  0%|          | 0/51 [00:00<?, ?it/s]"
          ],
          "name": "stderr"
        },
        {
          "output_type": "stream",
          "text": [
            "Epoch   46\n",
            "Train_loss = 0.301 | Test_loss = 0.265\n",
            "Train_acc = 88.1% | Test_acc = 89.8%\n",
            "==> EarlyStop patience = 8\n"
          ],
          "name": "stdout"
        },
        {
          "output_type": "stream",
          "text": [
            "100%|██████████| 51/51 [00:13<00:00,  3.71it/s]\n",
            "  0%|          | 0/51 [00:00<?, ?it/s]"
          ],
          "name": "stderr"
        },
        {
          "output_type": "stream",
          "text": [
            "Epoch   47\n",
            "Train_loss = 0.296 | Test_loss = 0.267\n",
            "Train_acc = 88.2% | Test_acc = 89.6%\n",
            "==> EarlyStop patience = 9\n"
          ],
          "name": "stdout"
        },
        {
          "output_type": "stream",
          "text": [
            "100%|██████████| 51/51 [00:13<00:00,  3.72it/s]\n"
          ],
          "name": "stderr"
        },
        {
          "output_type": "stream",
          "text": [
            "Epoch   48\n",
            "Train_loss = 0.303 | Test_loss = 0.266\n",
            "Train_acc = 87.3% | Test_acc = 89.9%\n",
            "==> EarlyStop patience = 10\n",
            "==> Execute Early Stopping\n"
          ],
          "name": "stdout"
        },
        {
          "output_type": "display_data",
          "data": {
            "image/png": "[encoded data removed]",
            "text/plain": [
              "<Figure size 432x288 with 1 Axes>"
            ]
          },
          "metadata": {
            "tags": [],
            "needs_background": "light"
          }
        }
      ]
    },
    {
      "cell_type": "markdown",
      "metadata": {
        "colab_type": "text",
        "id": "tf15SvxqOKHP"
      },
      "source": [
        "### Phase 2: Fine-tuning"
      ]
    },
    {
      "cell_type": "code",
      "metadata": {
        "ExecuteTime": {
          "start_time": "2020-04-17T04:05:07.961Z"
        },
        "colab_type": "code",
        "id": "SgSzAOR9OKHP",
        "colab": {}
      },
      "source": [
        "for param in model.parameters():\n",
        "    param.requires_grad = True\n",
        "\n",
        "optimizer = optim.Adam(model.parameters(), lr=1e-5)"
      ],
      "execution_count": 12,
      "outputs": []
    },
    {
      "cell_type": "code",
      "metadata": {
        "ExecuteTime": {
          "start_time": "2020-04-17T04:05:07.964Z"
        },
        "colab_type": "code",
        "id": "_SDN_vdCOKHS",
        "colab": {}
      },
      "source": [
        "# Config\n",
        "model_name = 'resnet_finetuned.pth'\n",
        "save_every = 10\n",
        "plot_every = 10\n",
        "early_stop_patience = 10\n",
        "\n",
        "# Initialization\n",
        "train_cost, test_cost = ckpt['loss_history']\n",
        "train_acc, test_acc = ckpt['acc_history']\n",
        "best_acc = max(test_acc)\n",
        "best_weights = model.state_dict()\n",
        "epoch = len(train_acc)\n",
        "early_stop = 0"
      ],
      "execution_count": 13,
      "outputs": []
    },
    {
      "cell_type": "code",
      "metadata": {
        "ExecuteTime": {
          "start_time": "2020-04-17T04:05:07.966Z"
        },
        "colab_type": "code",
        "id": "Jpbn19qiOKHW",
        "colab": {
          "base_uri": "https://localhost:8080/",
          "height": 1000
        },
        "outputId": "6b9d2448-a511-4a96-ffd1-b6a523922ffb"
      },
      "source": [
        "import os\n",
        "while True:\n",
        "    epoch += 1\n",
        "    \n",
        "    ## Training ##\n",
        "    cost = acc = 0\n",
        "    model.train()    \n",
        "    for images, labels in tqdm(trainloader):\n",
        "        images, labels = images.to(device), labels.to(device)\n",
        "\n",
        "        optimizer.zero_grad()\n",
        "\n",
        "        output = model(images)\n",
        "        loss = criterion(output, labels)\n",
        "        loss.backward()\n",
        "        optimizer.step()\n",
        "        \n",
        "        cost += loss.item()*images.shape[0]\n",
        "        labels = labels.cpu().detach().numpy()\n",
        "        pred = output > 0.5\n",
        "        pred = pred.cpu().detach().numpy()                \n",
        "        acc += (1-hamming_loss(labels, pred))\n",
        "    scheduler.step(cost)\n",
        "    train_cost.append(cost/len(trainloader.dataset))\n",
        "    train_acc.append(acc/len(trainloader))\n",
        "    \n",
        "    ## Testing ##\n",
        "    with torch.no_grad():\n",
        "        cost = acc = 0\n",
        "        model.eval()\n",
        "        for images, labels in testloader:\n",
        "            images, labels = images.to(device), labels.to(device)\n",
        "        \n",
        "            output = model(images)\n",
        "            loss = criterion(output, labels)            \n",
        "            \n",
        "            cost += loss.item()*images.shape[0]\n",
        "            labels = labels.cpu().detach().numpy()\n",
        "            pred = output > 0.5\n",
        "            pred = pred.cpu().detach().numpy()                \n",
        "            acc += (1-hamming_loss(labels, pred))\n",
        "        scheduler.step(cost)\n",
        "        test_cost.append(cost/len(testloader.dataset))\n",
        "        test_acc.append(acc/len(testloader))\n",
        "        \n",
        "    ## Reporting ##\n",
        "    print(f'Epoch {epoch:4}')\n",
        "    print(f'Train_loss = {train_cost[-1]:.3f} | Test_loss = {test_cost[-1]:.3f}')\n",
        "    print(f'Train_acc = {train_acc[-1]*100:.1f}% | Test_acc = {test_acc[-1]*100:.1f}%')    \n",
        "    \n",
        "    \n",
        "    ## Common Callback ##\n",
        "    # Early Stopping\n",
        "    if test_acc[-1] > best_acc:\n",
        "        best_acc = test_acc[-1]\n",
        "        best_weights = model.state_dict()\n",
        "        early_stop = 0\n",
        "    else:\n",
        "        early_stop += 1\n",
        "        print(f'==> EarlyStop patience = {early_stop}')\n",
        "        if early_stop >= early_stop_patience:\n",
        "            print('==> Execute Early Stopping')\n",
        "            ckpt = {\n",
        "                'loss_history': (train_cost, test_cost),\n",
        "                'acc_history': (train_acc, test_acc),\n",
        "                'weight': best_weights\n",
        "            }\n",
        "            os.makedirs('model', exist_ok=True)\n",
        "            torch.save(ckpt, f'model/{model_name}')\n",
        "            break\n",
        "\n",
        "    # Checkpoint            \n",
        "    if epoch % save_every == 0:\n",
        "        ckpt = {\n",
        "            'loss_history': (train_cost, test_cost),\n",
        "            'acc_history': (train_acc, test_acc),\n",
        "            'weight': best_weights\n",
        "        }\n",
        "        os.makedirs('model', exist_ok=True)\n",
        "        torch.save(ckpt, f'model/{model_name}')\n",
        "        \n",
        "    # Runtime Plotting\n",
        "    if epoch % plot_every == 0:\n",
        "        plt.pause(0.001)\n",
        "        plt.semilogy(range(1, len(train_cost)+1), train_cost)\n",
        "        plt.semilogy(range(1, len(test_cost)+1), test_cost)\n",
        "        plt.ylabel('Cost')\n",
        "        plt.xlabel('Epoch');"
      ],
      "execution_count": 14,
      "outputs": [
        {
          "output_type": "stream",
          "text": [
            "100%|██████████| 51/51 [00:20<00:00,  2.53it/s]\n",
            "  0%|          | 0/51 [00:00<?, ?it/s]"
          ],
          "name": "stderr"
        },
        {
          "output_type": "stream",
          "text": [
            "Epoch   49\n",
            "Train_loss = 0.288 | Test_loss = 0.235\n",
            "Train_acc = 88.5% | Test_acc = 91.3%\n"
          ],
          "name": "stdout"
        },
        {
          "output_type": "stream",
          "text": [
            "100%|██████████| 51/51 [00:19<00:00,  2.56it/s]\n",
            "  0%|          | 0/51 [00:00<?, ?it/s]"
          ],
          "name": "stderr"
        },
        {
          "output_type": "stream",
          "text": [
            "Epoch   50\n",
            "Train_loss = 0.261 | Test_loss = 0.215\n",
            "Train_acc = 89.8% | Test_acc = 91.5%\n"
          ],
          "name": "stdout"
        },
        {
          "output_type": "stream",
          "text": [
            "100%|██████████| 51/51 [00:19<00:00,  2.56it/s]\n",
            "  0%|          | 0/51 [00:00<?, ?it/s]"
          ],
          "name": "stderr"
        },
        {
          "output_type": "stream",
          "text": [
            "Epoch   51\n",
            "Train_loss = 0.233 | Test_loss = 0.199\n",
            "Train_acc = 91.6% | Test_acc = 92.8%\n"
          ],
          "name": "stdout"
        },
        {
          "output_type": "stream",
          "text": [
            "100%|██████████| 51/51 [00:20<00:00,  2.52it/s]\n",
            "  0%|          | 0/51 [00:00<?, ?it/s]"
          ],
          "name": "stderr"
        },
        {
          "output_type": "stream",
          "text": [
            "Epoch   52\n",
            "Train_loss = 0.225 | Test_loss = 0.193\n",
            "Train_acc = 91.4% | Test_acc = 92.6%\n",
            "==> EarlyStop patience = 1\n"
          ],
          "name": "stdout"
        },
        {
          "output_type": "stream",
          "text": [
            "100%|██████████| 51/51 [00:19<00:00,  2.60it/s]\n",
            "  0%|          | 0/51 [00:00<?, ?it/s]"
          ],
          "name": "stderr"
        },
        {
          "output_type": "stream",
          "text": [
            "Epoch   53\n",
            "Train_loss = 0.210 | Test_loss = 0.183\n",
            "Train_acc = 91.5% | Test_acc = 92.5%\n",
            "==> EarlyStop patience = 2\n"
          ],
          "name": "stdout"
        },
        {
          "output_type": "stream",
          "text": [
            "100%|██████████| 51/51 [00:19<00:00,  2.56it/s]\n",
            "  0%|          | 0/51 [00:00<?, ?it/s]"
          ],
          "name": "stderr"
        },
        {
          "output_type": "stream",
          "text": [
            "Epoch   54\n",
            "Train_loss = 0.210 | Test_loss = 0.180\n",
            "Train_acc = 91.7% | Test_acc = 93.4%\n"
          ],
          "name": "stdout"
        },
        {
          "output_type": "stream",
          "text": [
            "100%|██████████| 51/51 [00:19<00:00,  2.61it/s]\n",
            "  0%|          | 0/51 [00:00<?, ?it/s]"
          ],
          "name": "stderr"
        },
        {
          "output_type": "stream",
          "text": [
            "Epoch   55\n",
            "Train_loss = 0.205 | Test_loss = 0.169\n",
            "Train_acc = 91.4% | Test_acc = 93.2%\n",
            "==> EarlyStop patience = 1\n"
          ],
          "name": "stdout"
        },
        {
          "output_type": "stream",
          "text": [
            "100%|██████████| 51/51 [00:20<00:00,  2.53it/s]\n",
            "  0%|          | 0/51 [00:00<?, ?it/s]"
          ],
          "name": "stderr"
        },
        {
          "output_type": "stream",
          "text": [
            "Epoch   56\n",
            "Train_loss = 0.191 | Test_loss = 0.173\n",
            "Train_acc = 92.9% | Test_acc = 92.6%\n",
            "==> EarlyStop patience = 2\n"
          ],
          "name": "stdout"
        },
        {
          "output_type": "stream",
          "text": [
            "100%|██████████| 51/51 [00:19<00:00,  2.55it/s]\n",
            "  0%|          | 0/51 [00:00<?, ?it/s]"
          ],
          "name": "stderr"
        },
        {
          "output_type": "stream",
          "text": [
            "Epoch   57\n",
            "Train_loss = 0.191 | Test_loss = 0.167\n",
            "Train_acc = 92.2% | Test_acc = 93.5%\n"
          ],
          "name": "stdout"
        },
        {
          "output_type": "stream",
          "text": [
            "100%|██████████| 51/51 [00:20<00:00,  2.54it/s]\n",
            "  0%|          | 0/51 [00:00<?, ?it/s]"
          ],
          "name": "stderr"
        },
        {
          "output_type": "stream",
          "text": [
            "Epoch   58\n",
            "Train_loss = 0.186 | Test_loss = 0.164\n",
            "Train_acc = 92.6% | Test_acc = 93.9%\n"
          ],
          "name": "stdout"
        },
        {
          "output_type": "stream",
          "text": [
            "100%|██████████| 51/51 [00:19<00:00,  2.58it/s]\n",
            "  0%|          | 0/51 [00:00<?, ?it/s]"
          ],
          "name": "stderr"
        },
        {
          "output_type": "stream",
          "text": [
            "Epoch   59\n",
            "Train_loss = 0.178 | Test_loss = 0.167\n",
            "Train_acc = 93.1% | Test_acc = 93.5%\n",
            "==> EarlyStop patience = 1\n"
          ],
          "name": "stdout"
        },
        {
          "output_type": "stream",
          "text": [
            "100%|██████████| 51/51 [00:20<00:00,  2.53it/s]\n"
          ],
          "name": "stderr"
        },
        {
          "output_type": "stream",
          "text": [
            "Epoch   60\n",
            "Train_loss = 0.175 | Test_loss = 0.166\n",
            "Train_acc = 92.5% | Test_acc = 94.0%\n"
          ],
          "name": "stdout"
        },
        {
          "output_type": "display_data",
          "data": {
            "image/png": "[encoded data removed]",
            "text/plain": [
              "<Figure size 432x288 with 1 Axes>"
            ]
          },
          "metadata": {
            "tags": [],
            "needs_background": "light"
          }
        },
        {
          "output_type": "stream",
          "text": [
            "100%|██████████| 51/51 [00:20<00:00,  2.54it/s]\n",
            "  0%|          | 0/51 [00:00<?, ?it/s]"
          ],
          "name": "stderr"
        },
        {
          "output_type": "stream",
          "text": [
            "Epoch   61\n",
            "Train_loss = 0.172 | Test_loss = 0.162\n",
            "Train_acc = 93.0% | Test_acc = 93.3%\n",
            "==> EarlyStop patience = 1\n"
          ],
          "name": "stdout"
        },
        {
          "output_type": "stream",
          "text": [
            "100%|██████████| 51/51 [00:19<00:00,  2.55it/s]\n",
            "  0%|          | 0/51 [00:00<?, ?it/s]"
          ],
          "name": "stderr"
        },
        {
          "output_type": "stream",
          "text": [
            "Epoch   62\n",
            "Train_loss = 0.165 | Test_loss = 0.161\n",
            "Train_acc = 93.6% | Test_acc = 93.5%\n",
            "==> EarlyStop patience = 2\n"
          ],
          "name": "stdout"
        },
        {
          "output_type": "stream",
          "text": [
            "100%|██████████| 51/51 [00:19<00:00,  2.59it/s]\n",
            "  0%|          | 0/51 [00:00<?, ?it/s]"
          ],
          "name": "stderr"
        },
        {
          "output_type": "stream",
          "text": [
            "Epoch   63\n",
            "Train_loss = 0.158 | Test_loss = 0.152\n",
            "Train_acc = 93.9% | Test_acc = 94.0%\n",
            "==> EarlyStop patience = 3\n"
          ],
          "name": "stdout"
        },
        {
          "output_type": "stream",
          "text": [
            "100%|██████████| 51/51 [00:19<00:00,  2.57it/s]\n",
            "  0%|          | 0/51 [00:00<?, ?it/s]"
          ],
          "name": "stderr"
        },
        {
          "output_type": "stream",
          "text": [
            "Epoch   64\n",
            "Train_loss = 0.161 | Test_loss = 0.159\n",
            "Train_acc = 93.7% | Test_acc = 94.0%\n",
            "==> EarlyStop patience = 4\n"
          ],
          "name": "stdout"
        },
        {
          "output_type": "stream",
          "text": [
            "100%|██████████| 51/51 [00:20<00:00,  2.54it/s]\n",
            "  0%|          | 0/51 [00:00<?, ?it/s]"
          ],
          "name": "stderr"
        },
        {
          "output_type": "stream",
          "text": [
            "Epoch   65\n",
            "Train_loss = 0.156 | Test_loss = 0.149\n",
            "Train_acc = 93.8% | Test_acc = 94.0%\n",
            "==> EarlyStop patience = 5\n"
          ],
          "name": "stdout"
        },
        {
          "output_type": "stream",
          "text": [
            "100%|██████████| 51/51 [00:20<00:00,  2.54it/s]\n",
            "  0%|          | 0/51 [00:00<?, ?it/s]"
          ],
          "name": "stderr"
        },
        {
          "output_type": "stream",
          "text": [
            "Epoch   66\n",
            "Train_loss = 0.154 | Test_loss = 0.147\n",
            "Train_acc = 94.1% | Test_acc = 94.2%\n"
          ],
          "name": "stdout"
        },
        {
          "output_type": "stream",
          "text": [
            "100%|██████████| 51/51 [00:19<00:00,  2.56it/s]\n",
            "  0%|          | 0/51 [00:00<?, ?it/s]"
          ],
          "name": "stderr"
        },
        {
          "output_type": "stream",
          "text": [
            "Epoch   67\n",
            "Train_loss = 0.156 | Test_loss = 0.159\n",
            "Train_acc = 93.8% | Test_acc = 93.7%\n",
            "==> EarlyStop patience = 1\n"
          ],
          "name": "stdout"
        },
        {
          "output_type": "stream",
          "text": [
            "100%|██████████| 51/51 [00:19<00:00,  2.55it/s]\n",
            "  0%|          | 0/51 [00:00<?, ?it/s]"
          ],
          "name": "stderr"
        },
        {
          "output_type": "stream",
          "text": [
            "Epoch   68\n",
            "Train_loss = 0.151 | Test_loss = 0.148\n",
            "Train_acc = 94.1% | Test_acc = 94.1%\n",
            "==> EarlyStop patience = 2\n"
          ],
          "name": "stdout"
        },
        {
          "output_type": "stream",
          "text": [
            "100%|██████████| 51/51 [00:20<00:00,  2.55it/s]\n",
            "  0%|          | 0/51 [00:00<?, ?it/s]"
          ],
          "name": "stderr"
        },
        {
          "output_type": "stream",
          "text": [
            "Epoch   69\n",
            "Train_loss = 0.143 | Test_loss = 0.141\n",
            "Train_acc = 94.5% | Test_acc = 94.3%\n"
          ],
          "name": "stdout"
        },
        {
          "output_type": "stream",
          "text": [
            "100%|██████████| 51/51 [00:20<00:00,  2.44it/s]\n"
          ],
          "name": "stderr"
        },
        {
          "output_type": "stream",
          "text": [
            "Epoch   70\n",
            "Train_loss = 0.144 | Test_loss = 0.146\n",
            "Train_acc = 94.0% | Test_acc = 94.2%\n",
            "==> EarlyStop patience = 1\n"
          ],
          "name": "stdout"
        },
        {
          "output_type": "display_data",
          "data": {
            "image/png": "[encoded data removed]",
            "text/plain": [
              "<Figure size 432x288 with 1 Axes>"
            ]
          },
          "metadata": {
            "tags": [],
            "needs_background": "light"
          }
        },
        {
          "output_type": "stream",
          "text": [
            "100%|██████████| 51/51 [00:20<00:00,  2.55it/s]\n",
            "  0%|          | 0/51 [00:00<?, ?it/s]"
          ],
          "name": "stderr"
        },
        {
          "output_type": "stream",
          "text": [
            "Epoch   71\n",
            "Train_loss = 0.134 | Test_loss = 0.144\n",
            "Train_acc = 94.6% | Test_acc = 93.8%\n",
            "==> EarlyStop patience = 2\n"
          ],
          "name": "stdout"
        },
        {
          "output_type": "stream",
          "text": [
            "100%|██████████| 51/51 [00:20<00:00,  2.52it/s]\n",
            "  0%|          | 0/51 [00:00<?, ?it/s]"
          ],
          "name": "stderr"
        },
        {
          "output_type": "stream",
          "text": [
            "Epoch   72\n",
            "Train_loss = 0.140 | Test_loss = 0.142\n",
            "Train_acc = 93.9% | Test_acc = 94.3%\n"
          ],
          "name": "stdout"
        },
        {
          "output_type": "stream",
          "text": [
            "100%|██████████| 51/51 [00:20<00:00,  2.55it/s]\n",
            "  0%|          | 0/51 [00:00<?, ?it/s]"
          ],
          "name": "stderr"
        },
        {
          "output_type": "stream",
          "text": [
            "Epoch   73\n",
            "Train_loss = 0.136 | Test_loss = 0.147\n",
            "Train_acc = 94.8% | Test_acc = 94.4%\n"
          ],
          "name": "stdout"
        },
        {
          "output_type": "stream",
          "text": [
            "100%|██████████| 51/51 [00:20<00:00,  2.53it/s]\n",
            "  0%|          | 0/51 [00:00<?, ?it/s]"
          ],
          "name": "stderr"
        },
        {
          "output_type": "stream",
          "text": [
            "Epoch   74\n",
            "Train_loss = 0.132 | Test_loss = 0.146\n",
            "Train_acc = 95.1% | Test_acc = 94.2%\n",
            "==> EarlyStop patience = 1\n"
          ],
          "name": "stdout"
        },
        {
          "output_type": "stream",
          "text": [
            "100%|██████████| 51/51 [00:19<00:00,  2.56it/s]\n",
            "  0%|          | 0/51 [00:00<?, ?it/s]"
          ],
          "name": "stderr"
        },
        {
          "output_type": "stream",
          "text": [
            "Epoch   75\n",
            "Train_loss = 0.130 | Test_loss = 0.143\n",
            "Train_acc = 94.7% | Test_acc = 94.1%\n",
            "==> EarlyStop patience = 2\n"
          ],
          "name": "stdout"
        },
        {
          "output_type": "stream",
          "text": [
            "100%|██████████| 51/51 [00:20<00:00,  2.54it/s]\n",
            "  0%|          | 0/51 [00:00<?, ?it/s]"
          ],
          "name": "stderr"
        },
        {
          "output_type": "stream",
          "text": [
            "Epoch   76\n",
            "Train_loss = 0.134 | Test_loss = 0.140\n",
            "Train_acc = 94.7% | Test_acc = 94.2%\n",
            "==> EarlyStop patience = 3\n"
          ],
          "name": "stdout"
        },
        {
          "output_type": "stream",
          "text": [
            "100%|██████████| 51/51 [00:20<00:00,  2.55it/s]\n",
            "  0%|          | 0/51 [00:00<?, ?it/s]"
          ],
          "name": "stderr"
        },
        {
          "output_type": "stream",
          "text": [
            "Epoch   77\n",
            "Train_loss = 0.132 | Test_loss = 0.143\n",
            "Train_acc = 94.8% | Test_acc = 94.7%\n"
          ],
          "name": "stdout"
        },
        {
          "output_type": "stream",
          "text": [
            "100%|██████████| 51/51 [00:20<00:00,  2.51it/s]\n",
            "  0%|          | 0/51 [00:00<?, ?it/s]"
          ],
          "name": "stderr"
        },
        {
          "output_type": "stream",
          "text": [
            "Epoch   78\n",
            "Train_loss = 0.131 | Test_loss = 0.141\n",
            "Train_acc = 95.0% | Test_acc = 94.6%\n",
            "==> EarlyStop patience = 1\n"
          ],
          "name": "stdout"
        },
        {
          "output_type": "stream",
          "text": [
            "100%|██████████| 51/51 [00:20<00:00,  2.55it/s]\n",
            "  0%|          | 0/51 [00:00<?, ?it/s]"
          ],
          "name": "stderr"
        },
        {
          "output_type": "stream",
          "text": [
            "Epoch   79\n",
            "Train_loss = 0.126 | Test_loss = 0.138\n",
            "Train_acc = 95.0% | Test_acc = 94.5%\n",
            "==> EarlyStop patience = 2\n"
          ],
          "name": "stdout"
        },
        {
          "output_type": "stream",
          "text": [
            "100%|██████████| 51/51 [00:20<00:00,  2.55it/s]\n"
          ],
          "name": "stderr"
        },
        {
          "output_type": "stream",
          "text": [
            "Epoch   80\n",
            "Train_loss = 0.116 | Test_loss = 0.141\n",
            "Train_acc = 95.4% | Test_acc = 94.5%\n",
            "==> EarlyStop patience = 3\n"
          ],
          "name": "stdout"
        },
        {
          "output_type": "display_data",
          "data": {
            "image/png": "[encoded data removed]",
            "text/plain": [
              "<Figure size 432x288 with 1 Axes>"
            ]
          },
          "metadata": {
            "tags": [],
            "needs_background": "light"
          }
        },
        {
          "output_type": "stream",
          "text": [
            "100%|██████████| 51/51 [00:20<00:00,  2.54it/s]\n",
            "  0%|          | 0/51 [00:00<?, ?it/s]"
          ],
          "name": "stderr"
        },
        {
          "output_type": "stream",
          "text": [
            "Epoch   81\n",
            "Train_loss = 0.117 | Test_loss = 0.147\n",
            "Train_acc = 95.5% | Test_acc = 94.0%\n",
            "==> EarlyStop patience = 4\n"
          ],
          "name": "stdout"
        },
        {
          "output_type": "stream",
          "text": [
            "100%|██████████| 51/51 [00:20<00:00,  2.54it/s]\n",
            "  0%|          | 0/51 [00:00<?, ?it/s]"
          ],
          "name": "stderr"
        },
        {
          "output_type": "stream",
          "text": [
            "Epoch   82\n",
            "Train_loss = 0.120 | Test_loss = 0.145\n",
            "Train_acc = 95.5% | Test_acc = 94.3%\n",
            "==> EarlyStop patience = 5\n"
          ],
          "name": "stdout"
        },
        {
          "output_type": "stream",
          "text": [
            "100%|██████████| 51/51 [00:20<00:00,  2.48it/s]\n",
            "  0%|          | 0/51 [00:00<?, ?it/s]"
          ],
          "name": "stderr"
        },
        {
          "output_type": "stream",
          "text": [
            "Epoch   83\n",
            "Train_loss = 0.118 | Test_loss = 0.137\n",
            "Train_acc = 95.0% | Test_acc = 94.2%\n",
            "==> EarlyStop patience = 6\n"
          ],
          "name": "stdout"
        },
        {
          "output_type": "stream",
          "text": [
            "100%|██████████| 51/51 [00:19<00:00,  2.55it/s]\n",
            "  0%|          | 0/51 [00:00<?, ?it/s]"
          ],
          "name": "stderr"
        },
        {
          "output_type": "stream",
          "text": [
            "Epoch   84\n",
            "Train_loss = 0.115 | Test_loss = 0.138\n",
            "Train_acc = 95.5% | Test_acc = 94.3%\n",
            "==> EarlyStop patience = 7\n"
          ],
          "name": "stdout"
        },
        {
          "output_type": "stream",
          "text": [
            "100%|██████████| 51/51 [00:19<00:00,  2.56it/s]\n",
            "  0%|          | 0/51 [00:00<?, ?it/s]"
          ],
          "name": "stderr"
        },
        {
          "output_type": "stream",
          "text": [
            "Epoch   85\n",
            "Train_loss = 0.115 | Test_loss = 0.139\n",
            "Train_acc = 95.4% | Test_acc = 94.9%\n"
          ],
          "name": "stdout"
        },
        {
          "output_type": "stream",
          "text": [
            "100%|██████████| 51/51 [00:19<00:00,  2.58it/s]\n",
            "  0%|          | 0/51 [00:00<?, ?it/s]"
          ],
          "name": "stderr"
        },
        {
          "output_type": "stream",
          "text": [
            "Epoch   86\n",
            "Train_loss = 0.105 | Test_loss = 0.149\n",
            "Train_acc = 95.9% | Test_acc = 93.9%\n",
            "==> EarlyStop patience = 1\n"
          ],
          "name": "stdout"
        },
        {
          "output_type": "stream",
          "text": [
            "100%|██████████| 51/51 [00:20<00:00,  2.54it/s]\n",
            "  0%|          | 0/51 [00:00<?, ?it/s]"
          ],
          "name": "stderr"
        },
        {
          "output_type": "stream",
          "text": [
            "Epoch   87\n",
            "Train_loss = 0.115 | Test_loss = 0.142\n",
            "Train_acc = 94.9% | Test_acc = 93.8%\n",
            "==> EarlyStop patience = 2\n"
          ],
          "name": "stdout"
        },
        {
          "output_type": "stream",
          "text": [
            "100%|██████████| 51/51 [00:19<00:00,  2.57it/s]\n",
            "  0%|          | 0/51 [00:00<?, ?it/s]"
          ],
          "name": "stderr"
        },
        {
          "output_type": "stream",
          "text": [
            "Epoch   88\n",
            "Train_loss = 0.101 | Test_loss = 0.136\n",
            "Train_acc = 96.2% | Test_acc = 94.9%\n"
          ],
          "name": "stdout"
        },
        {
          "output_type": "stream",
          "text": [
            "100%|██████████| 51/51 [00:19<00:00,  2.58it/s]\n",
            "  0%|          | 0/51 [00:00<?, ?it/s]"
          ],
          "name": "stderr"
        },
        {
          "output_type": "stream",
          "text": [
            "Epoch   89\n",
            "Train_loss = 0.114 | Test_loss = 0.146\n",
            "Train_acc = 95.7% | Test_acc = 93.9%\n",
            "==> EarlyStop patience = 1\n"
          ],
          "name": "stdout"
        },
        {
          "output_type": "stream",
          "text": [
            "100%|██████████| 51/51 [00:20<00:00,  2.55it/s]\n"
          ],
          "name": "stderr"
        },
        {
          "output_type": "stream",
          "text": [
            "Epoch   90\n",
            "Train_loss = 0.107 | Test_loss = 0.138\n",
            "Train_acc = 95.2% | Test_acc = 94.8%\n",
            "==> EarlyStop patience = 2\n"
          ],
          "name": "stdout"
        },
        {
          "output_type": "display_data",
          "data": {
            "image/png": "[encoded data removed]",
            "text/plain": [
              "<Figure size 432x288 with 1 Axes>"
            ]
          },
          "metadata": {
            "tags": [],
            "needs_background": "light"
          }
        },
        {
          "output_type": "stream",
          "text": [
            "100%|██████████| 51/51 [00:20<00:00,  2.52it/s]\n",
            "  0%|          | 0/51 [00:00<?, ?it/s]"
          ],
          "name": "stderr"
        },
        {
          "output_type": "stream",
          "text": [
            "Epoch   91\n",
            "Train_loss = 0.103 | Test_loss = 0.135\n",
            "Train_acc = 96.3% | Test_acc = 94.7%\n",
            "==> EarlyStop patience = 3\n"
          ],
          "name": "stdout"
        },
        {
          "output_type": "stream",
          "text": [
            "100%|██████████| 51/51 [00:19<00:00,  2.55it/s]\n",
            "  0%|          | 0/51 [00:00<?, ?it/s]"
          ],
          "name": "stderr"
        },
        {
          "output_type": "stream",
          "text": [
            "Epoch   92\n",
            "Train_loss = 0.109 | Test_loss = 0.140\n",
            "Train_acc = 95.8% | Test_acc = 95.1%\n"
          ],
          "name": "stdout"
        },
        {
          "output_type": "stream",
          "text": [
            "100%|██████████| 51/51 [00:20<00:00,  2.52it/s]\n",
            "  0%|          | 0/51 [00:00<?, ?it/s]"
          ],
          "name": "stderr"
        },
        {
          "output_type": "stream",
          "text": [
            "Epoch   93\n",
            "Train_loss = 0.104 | Test_loss = 0.139\n",
            "Train_acc = 95.3% | Test_acc = 94.5%\n",
            "==> EarlyStop patience = 1\n"
          ],
          "name": "stdout"
        },
        {
          "output_type": "stream",
          "text": [
            "100%|██████████| 51/51 [00:19<00:00,  2.55it/s]\n",
            "  0%|          | 0/51 [00:00<?, ?it/s]"
          ],
          "name": "stderr"
        },
        {
          "output_type": "stream",
          "text": [
            "Epoch   94\n",
            "Train_loss = 0.103 | Test_loss = 0.138\n",
            "Train_acc = 96.1% | Test_acc = 94.6%\n",
            "==> EarlyStop patience = 2\n"
          ],
          "name": "stdout"
        },
        {
          "output_type": "stream",
          "text": [
            "100%|██████████| 51/51 [00:19<00:00,  2.57it/s]\n",
            "  0%|          | 0/51 [00:00<?, ?it/s]"
          ],
          "name": "stderr"
        },
        {
          "output_type": "stream",
          "text": [
            "Epoch   95\n",
            "Train_loss = 0.088 | Test_loss = 0.132\n",
            "Train_acc = 96.3% | Test_acc = 94.9%\n",
            "==> EarlyStop patience = 3\n"
          ],
          "name": "stdout"
        },
        {
          "output_type": "stream",
          "text": [
            "100%|██████████| 51/51 [00:20<00:00,  2.47it/s]\n",
            "  0%|          | 0/51 [00:00<?, ?it/s]"
          ],
          "name": "stderr"
        },
        {
          "output_type": "stream",
          "text": [
            "Epoch   96\n",
            "Train_loss = 0.102 | Test_loss = 0.140\n",
            "Train_acc = 96.2% | Test_acc = 94.6%\n",
            "==> EarlyStop patience = 4\n"
          ],
          "name": "stdout"
        },
        {
          "output_type": "stream",
          "text": [
            "100%|██████████| 51/51 [00:19<00:00,  2.62it/s]\n",
            "  0%|          | 0/51 [00:00<?, ?it/s]"
          ],
          "name": "stderr"
        },
        {
          "output_type": "stream",
          "text": [
            "Epoch   97\n",
            "Train_loss = 0.104 | Test_loss = 0.141\n",
            "Train_acc = 96.1% | Test_acc = 94.8%\n",
            "==> EarlyStop patience = 5\n"
          ],
          "name": "stdout"
        },
        {
          "output_type": "stream",
          "text": [
            "100%|██████████| 51/51 [00:19<00:00,  2.60it/s]\n",
            "  0%|          | 0/51 [00:00<?, ?it/s]"
          ],
          "name": "stderr"
        },
        {
          "output_type": "stream",
          "text": [
            "Epoch   98\n",
            "Train_loss = 0.094 | Test_loss = 0.137\n",
            "Train_acc = 96.7% | Test_acc = 94.6%\n",
            "==> EarlyStop patience = 6\n"
          ],
          "name": "stdout"
        },
        {
          "output_type": "stream",
          "text": [
            "100%|██████████| 51/51 [00:19<00:00,  2.58it/s]\n",
            "  0%|          | 0/51 [00:00<?, ?it/s]"
          ],
          "name": "stderr"
        },
        {
          "output_type": "stream",
          "text": [
            "Epoch   99\n",
            "Train_loss = 0.101 | Test_loss = 0.143\n",
            "Train_acc = 96.0% | Test_acc = 94.3%\n",
            "==> EarlyStop patience = 7\n"
          ],
          "name": "stdout"
        },
        {
          "output_type": "stream",
          "text": [
            "100%|██████████| 51/51 [00:19<00:00,  2.57it/s]\n"
          ],
          "name": "stderr"
        },
        {
          "output_type": "stream",
          "text": [
            "Epoch  100\n",
            "Train_loss = 0.096 | Test_loss = 0.149\n",
            "Train_acc = 96.4% | Test_acc = 94.2%\n",
            "==> EarlyStop patience = 8\n"
          ],
          "name": "stdout"
        },
        {
          "output_type": "display_data",
          "data": {
            "image/png": "[encoded data removed]",
            "text/plain": [
              "<Figure size 432x288 with 1 Axes>"
            ]
          },
          "metadata": {
            "tags": [],
            "needs_background": "light"
          }
        },
        {
          "output_type": "stream",
          "text": [
            "100%|██████████| 51/51 [00:19<00:00,  2.59it/s]\n",
            "  0%|          | 0/51 [00:00<?, ?it/s]"
          ],
          "name": "stderr"
        },
        {
          "output_type": "stream",
          "text": [
            "Epoch  101\n",
            "Train_loss = 0.089 | Test_loss = 0.133\n",
            "Train_acc = 96.7% | Test_acc = 95.1%\n"
          ],
          "name": "stdout"
        },
        {
          "output_type": "stream",
          "text": [
            "100%|██████████| 51/51 [00:19<00:00,  2.55it/s]\n",
            "  0%|          | 0/51 [00:00<?, ?it/s]"
          ],
          "name": "stderr"
        },
        {
          "output_type": "stream",
          "text": [
            "Epoch  102\n",
            "Train_loss = 0.088 | Test_loss = 0.137\n",
            "Train_acc = 96.8% | Test_acc = 94.9%\n",
            "==> EarlyStop patience = 1\n"
          ],
          "name": "stdout"
        },
        {
          "output_type": "stream",
          "text": [
            "100%|██████████| 51/51 [00:19<00:00,  2.61it/s]\n",
            "  0%|          | 0/51 [00:00<?, ?it/s]"
          ],
          "name": "stderr"
        },
        {
          "output_type": "stream",
          "text": [
            "Epoch  103\n",
            "Train_loss = 0.082 | Test_loss = 0.135\n",
            "Train_acc = 97.1% | Test_acc = 95.4%\n"
          ],
          "name": "stdout"
        },
        {
          "output_type": "stream",
          "text": [
            "100%|██████████| 51/51 [00:20<00:00,  2.54it/s]\n",
            "  0%|          | 0/51 [00:00<?, ?it/s]"
          ],
          "name": "stderr"
        },
        {
          "output_type": "stream",
          "text": [
            "Epoch  104\n",
            "Train_loss = 0.090 | Test_loss = 0.134\n",
            "Train_acc = 96.4% | Test_acc = 94.8%\n",
            "==> EarlyStop patience = 1\n"
          ],
          "name": "stdout"
        },
        {
          "output_type": "stream",
          "text": [
            "100%|██████████| 51/51 [00:19<00:00,  2.58it/s]\n",
            "  0%|          | 0/51 [00:00<?, ?it/s]"
          ],
          "name": "stderr"
        },
        {
          "output_type": "stream",
          "text": [
            "Epoch  105\n",
            "Train_loss = 0.088 | Test_loss = 0.131\n",
            "Train_acc = 96.8% | Test_acc = 95.1%\n",
            "==> EarlyStop patience = 2\n"
          ],
          "name": "stdout"
        },
        {
          "output_type": "stream",
          "text": [
            "100%|██████████| 51/51 [00:19<00:00,  2.60it/s]\n",
            "  0%|          | 0/51 [00:00<?, ?it/s]"
          ],
          "name": "stderr"
        },
        {
          "output_type": "stream",
          "text": [
            "Epoch  106\n",
            "Train_loss = 0.093 | Test_loss = 0.133\n",
            "Train_acc = 96.1% | Test_acc = 94.9%\n",
            "==> EarlyStop patience = 3\n"
          ],
          "name": "stdout"
        },
        {
          "output_type": "stream",
          "text": [
            "100%|██████████| 51/51 [00:19<00:00,  2.61it/s]\n",
            "  0%|          | 0/51 [00:00<?, ?it/s]"
          ],
          "name": "stderr"
        },
        {
          "output_type": "stream",
          "text": [
            "Epoch  107\n",
            "Train_loss = 0.088 | Test_loss = 0.133\n",
            "Train_acc = 96.6% | Test_acc = 95.2%\n",
            "==> EarlyStop patience = 4\n"
          ],
          "name": "stdout"
        },
        {
          "output_type": "stream",
          "text": [
            "100%|██████████| 51/51 [00:19<00:00,  2.57it/s]\n",
            "  0%|          | 0/51 [00:00<?, ?it/s]"
          ],
          "name": "stderr"
        },
        {
          "output_type": "stream",
          "text": [
            "Epoch  108\n",
            "Train_loss = 0.082 | Test_loss = 0.137\n",
            "Train_acc = 96.9% | Test_acc = 94.8%\n",
            "==> EarlyStop patience = 5\n"
          ],
          "name": "stdout"
        },
        {
          "output_type": "stream",
          "text": [
            "100%|██████████| 51/51 [00:19<00:00,  2.56it/s]\n",
            "  0%|          | 0/51 [00:00<?, ?it/s]"
          ],
          "name": "stderr"
        },
        {
          "output_type": "stream",
          "text": [
            "Epoch  109\n",
            "Train_loss = 0.085 | Test_loss = 0.134\n",
            "Train_acc = 96.8% | Test_acc = 95.0%\n",
            "==> EarlyStop patience = 6\n"
          ],
          "name": "stdout"
        },
        {
          "output_type": "stream",
          "text": [
            "100%|██████████| 51/51 [00:20<00:00,  2.46it/s]\n"
          ],
          "name": "stderr"
        },
        {
          "output_type": "stream",
          "text": [
            "Epoch  110\n",
            "Train_loss = 0.089 | Test_loss = 0.138\n",
            "Train_acc = 96.7% | Test_acc = 95.0%\n",
            "==> EarlyStop patience = 7\n"
          ],
          "name": "stdout"
        },
        {
          "output_type": "display_data",
          "data": {
            "image/png": "[encoded data removed]",
            "text/plain": [
              "<Figure size 432x288 with 1 Axes>"
            ]
          },
          "metadata": {
            "tags": [],
            "needs_background": "light"
          }
        },
        {
          "output_type": "stream",
          "text": [
            "100%|██████████| 51/51 [00:19<00:00,  2.57it/s]\n",
            "  0%|          | 0/51 [00:00<?, ?it/s]"
          ],
          "name": "stderr"
        },
        {
          "output_type": "stream",
          "text": [
            "Epoch  111\n",
            "Train_loss = 0.084 | Test_loss = 0.135\n",
            "Train_acc = 97.0% | Test_acc = 94.7%\n",
            "==> EarlyStop patience = 8\n"
          ],
          "name": "stdout"
        },
        {
          "output_type": "stream",
          "text": [
            "100%|██████████| 51/51 [00:19<00:00,  2.58it/s]\n",
            "  0%|          | 0/51 [00:00<?, ?it/s]"
          ],
          "name": "stderr"
        },
        {
          "output_type": "stream",
          "text": [
            "Epoch  112\n",
            "Train_loss = 0.078 | Test_loss = 0.139\n",
            "Train_acc = 96.4% | Test_acc = 94.7%\n",
            "==> EarlyStop patience = 9\n"
          ],
          "name": "stdout"
        },
        {
          "output_type": "stream",
          "text": [
            "100%|██████████| 51/51 [00:19<00:00,  2.58it/s]\n"
          ],
          "name": "stderr"
        },
        {
          "output_type": "stream",
          "text": [
            "Epoch  113\n",
            "Train_loss = 0.073 | Test_loss = 0.139\n",
            "Train_acc = 97.1% | Test_acc = 94.8%\n",
            "==> EarlyStop patience = 10\n",
            "==> Execute Early Stopping\n"
          ],
          "name": "stdout"
        },
        {
          "output_type": "display_data",
          "data": {
            "image/png": "[encoded data removed]",
            "text/plain": [
              "<Figure size 432x288 with 1 Axes>"
            ]
          },
          "metadata": {
            "tags": [],
            "needs_background": "light"
          }
        }
      ]
    },
    {
      "cell_type": "markdown",
      "metadata": {
        "colab_type": "text",
        "id": "ZfPq6xxlOKHZ"
      },
      "source": [
        "# Sanity Check"
      ]
    },
    {
      "cell_type": "code",
      "metadata": {
        "ExecuteTime": {
          "start_time": "2020-04-17T04:05:07.968Z"
        },
        "colab_type": "code",
        "id": "0ucwPZRJOKHa",
        "colab": {}
      },
      "source": [
        "from torchvision.models import resnet18\n",
        "model = resnet18(pretrained=True)\n",
        "model.fc = nn.Sequential(\n",
        "    nn.Linear(model.fc.in_features, 5),\n",
        "    nn.Sigmoid()\n",
        ")\n",
        "\n",
        "ckpt = torch.load(\"model/resnet_finetuned.pth\", map_location='cpu')\n",
        "model.load_state_dict(ckpt['weight'])\n",
        "model = model.to(device)"
      ],
      "execution_count": 15,
      "outputs": []
    },
    {
      "cell_type": "code",
      "metadata": {
        "ExecuteTime": {
          "start_time": "2020-04-17T04:05:07.971Z"
        },
        "colab_type": "code",
        "id": "lz_Hbc4NOKHd",
        "colab": {
          "base_uri": "https://localhost:8080/",
          "height": 336
        },
        "outputId": "aba984f1-364a-4dc4-8bb3-1bcc77ac1104"
      },
      "source": [
        "with torch.no_grad():\n",
        "    model.eval()\n",
        "    images, labels = next(iter(testloader))\n",
        "    images = images[0:1, :, :, :].to(device)\n",
        "    labels = labels[0].to(device)\n",
        "    \n",
        "    output = model(images)\n",
        "    pred = output > 0.5\n",
        "    \n",
        "    images = inv_norm(images)\n",
        "    \n",
        "    images = images.squeeze().cpu().numpy().transpose([1, 2, 0])\n",
        "    output = output.squeeze().cpu().numpy()\n",
        "    pred = pred.squeeze().cpu().numpy()\n",
        "    labels = labels.cpu().numpy()\n",
        "    \n",
        "    plt.figure(figsize=(12,5))\n",
        "    plt.subplot(121)\n",
        "    plt.imshow(images)\n",
        "    plt.title(f\"Data: {label2cat(labels)} | Pred: {label2cat(pred)}\")\n",
        "    plt.subplot(122)\n",
        "    plt.barh(range(1,6), output, color='b', tick_label=[\"desert\", \"mountains\", \"sea\", \"sunset\", \"trees\"]);"
      ],
      "execution_count": 17,
      "outputs": [
        {
          "output_type": "display_data",
          "data": {
            "image/png": "[encoded data removed]",
            "text/plain": [
              "<Figure size 864x360 with 2 Axes>"
            ]
          },
          "metadata": {
            "tags": [],
            "needs_background": "light"
          }
        }
      ]
    }
  ]
}